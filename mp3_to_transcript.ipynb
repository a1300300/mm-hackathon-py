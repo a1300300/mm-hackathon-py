{
 "cells": [
  {
   "cell_type": "markdown",
   "id": "810365a55e299eaa",
   "metadata": {},
   "source": [
    "## Load API KEY"
   ]
  },
  {
   "cell_type": "code",
   "execution_count": 4,
   "id": "87e40bf92d022071",
   "metadata": {
    "ExecuteTime": {
     "end_time": "2025-09-25T08:34:18.928214Z",
     "start_time": "2025-09-25T08:34:18.925669Z"
    }
   },
   "outputs": [],
   "source": [
    "from dotenv import load_dotenv, find_dotenv\n",
    "import os\n",
    "\n",
    "# Load variables from the nearest .env file (walking up directories if needed)\n",
    "load_dotenv(find_dotenv(), override=False)\n",
    "\n",
    "GEMINI_API_KEY = os.getenv(\"GEMINI_API_KEY\")\n",
    "if not GEMINI_API_KEY:\n",
    "    raise RuntimeError(\"GEMINI_API_KEY not found. Make sure it's set in your .env file.\")\n",
    "\n"
   ]
  },
  {
   "metadata": {
    "ExecuteTime": {
     "end_time": "2025-09-25T08:34:18.976536Z",
     "start_time": "2025-09-25T08:34:18.974676Z"
    }
   },
   "cell_type": "markdown",
   "source": "## load & split mp3 files",
   "id": "678edf1bd6e62b94"
  },
  {
   "metadata": {
    "ExecuteTime": {
     "end_time": "2025-09-25T10:32:05.428544Z",
     "start_time": "2025-09-25T10:32:05.189300Z"
    }
   },
   "cell_type": "code",
   "source": [
    "# 讀取 MP3 檔案\n",
    "from pydub import AudioSegment\n",
    "\n",
    "input_mp3 = './sound_files/' + 'cut2.mp3'\n",
    "if not os.path.isfile(file_path):\n",
    "    raise RuntimeError(\"MP3檔案不存在\")\n",
    "\n",
    "audio = AudioSegment.from_file(input_mp3)\n",
    "print(audio)\n"
   ],
   "id": "cab68483d632ebd6",
   "outputs": [
    {
     "name": "stderr",
     "output_type": "stream",
     "text": [
      "/home/jack/Documents/working/mm-hackathon-py/.venv/lib/python3.12/site-packages/pydub/utils.py:170: RuntimeWarning: Couldn't find ffmpeg or avconv - defaulting to ffmpeg, but may not work\n",
      "  warn(\"Couldn't find ffmpeg or avconv - defaulting to ffmpeg, but may not work\", RuntimeWarning)\n",
      "/home/jack/Documents/working/mm-hackathon-py/.venv/lib/python3.12/site-packages/pydub/utils.py:198: RuntimeWarning: Couldn't find ffprobe or avprobe - defaulting to ffprobe, but may not work\n",
      "  warn(\"Couldn't find ffprobe or avprobe - defaulting to ffprobe, but may not work\", RuntimeWarning)\n",
      "/home/jack/Documents/working/mm-hackathon-py/.venv/lib/python3.12/site-packages/pydub/utils.py:300: SyntaxWarning: invalid escape sequence '\\('\n",
      "  m = re.match('([su]([0-9]{1,2})p?) \\(([0-9]{1,2}) bit\\)$', token)\n",
      "/home/jack/Documents/working/mm-hackathon-py/.venv/lib/python3.12/site-packages/pydub/utils.py:301: SyntaxWarning: invalid escape sequence '\\('\n",
      "  m2 = re.match('([su]([0-9]{1,2})p?)( \\(default\\))?$', token)\n",
      "/home/jack/Documents/working/mm-hackathon-py/.venv/lib/python3.12/site-packages/pydub/utils.py:310: SyntaxWarning: invalid escape sequence '\\('\n",
      "  elif re.match('(flt)p?( \\(default\\))?$', token):\n",
      "/home/jack/Documents/working/mm-hackathon-py/.venv/lib/python3.12/site-packages/pydub/utils.py:314: SyntaxWarning: invalid escape sequence '\\('\n",
      "  elif re.match('(dbl)p?( \\(default\\))?$', token):\n"
     ]
    },
    {
     "ename": "FileNotFoundError",
     "evalue": "[Errno 2] No such file or directory: 'ffprobe'",
     "output_type": "error",
     "traceback": [
      "\u001B[31m---------------------------------------------------------------------------\u001B[39m",
      "\u001B[31mFileNotFoundError\u001B[39m                         Traceback (most recent call last)",
      "\u001B[36mCell\u001B[39m\u001B[36m \u001B[39m\u001B[32mIn[7]\u001B[39m\u001B[32m, line 8\u001B[39m\n\u001B[32m      5\u001B[39m \u001B[38;5;28;01mif\u001B[39;00m \u001B[38;5;129;01mnot\u001B[39;00m os.path.isfile(file_path):\n\u001B[32m      6\u001B[39m     \u001B[38;5;28;01mraise\u001B[39;00m \u001B[38;5;167;01mRuntimeError\u001B[39;00m(\u001B[33m\"\u001B[39m\u001B[33mMP3檔案不存在\u001B[39m\u001B[33m\"\u001B[39m)\n\u001B[32m----> \u001B[39m\u001B[32m8\u001B[39m audio = \u001B[43mAudioSegment\u001B[49m\u001B[43m.\u001B[49m\u001B[43mfrom_file\u001B[49m\u001B[43m(\u001B[49m\u001B[43minput_mp3\u001B[49m\u001B[43m)\u001B[49m\n\u001B[32m      9\u001B[39m \u001B[38;5;28mprint\u001B[39m(audio)\n",
      "\u001B[36mFile \u001B[39m\u001B[32m~/Documents/working/mm-hackathon-py/.venv/lib/python3.12/site-packages/pydub/audio_segment.py:728\u001B[39m, in \u001B[36mAudioSegment.from_file\u001B[39m\u001B[34m(cls, file, format, codec, parameters, start_second, duration, **kwargs)\u001B[39m\n\u001B[32m    726\u001B[39m     info = \u001B[38;5;28;01mNone\u001B[39;00m\n\u001B[32m    727\u001B[39m \u001B[38;5;28;01melse\u001B[39;00m:\n\u001B[32m--> \u001B[39m\u001B[32m728\u001B[39m     info = \u001B[43mmediainfo_json\u001B[49m\u001B[43m(\u001B[49m\u001B[43morig_file\u001B[49m\u001B[43m,\u001B[49m\u001B[43m \u001B[49m\u001B[43mread_ahead_limit\u001B[49m\u001B[43m=\u001B[49m\u001B[43mread_ahead_limit\u001B[49m\u001B[43m)\u001B[49m\n\u001B[32m    729\u001B[39m \u001B[38;5;28;01mif\u001B[39;00m info:\n\u001B[32m    730\u001B[39m     audio_streams = [x \u001B[38;5;28;01mfor\u001B[39;00m x \u001B[38;5;129;01min\u001B[39;00m info[\u001B[33m'\u001B[39m\u001B[33mstreams\u001B[39m\u001B[33m'\u001B[39m]\n\u001B[32m    731\u001B[39m                      \u001B[38;5;28;01mif\u001B[39;00m x[\u001B[33m'\u001B[39m\u001B[33mcodec_type\u001B[39m\u001B[33m'\u001B[39m] == \u001B[33m'\u001B[39m\u001B[33maudio\u001B[39m\u001B[33m'\u001B[39m]\n",
      "\u001B[36mFile \u001B[39m\u001B[32m~/Documents/working/mm-hackathon-py/.venv/lib/python3.12/site-packages/pydub/utils.py:274\u001B[39m, in \u001B[36mmediainfo_json\u001B[39m\u001B[34m(filepath, read_ahead_limit)\u001B[39m\n\u001B[32m    271\u001B[39m         file.close()\n\u001B[32m    273\u001B[39m command = [prober, \u001B[33m'\u001B[39m\u001B[33m-of\u001B[39m\u001B[33m'\u001B[39m, \u001B[33m'\u001B[39m\u001B[33mjson\u001B[39m\u001B[33m'\u001B[39m] + command_args\n\u001B[32m--> \u001B[39m\u001B[32m274\u001B[39m res = \u001B[43mPopen\u001B[49m\u001B[43m(\u001B[49m\u001B[43mcommand\u001B[49m\u001B[43m,\u001B[49m\u001B[43m \u001B[49m\u001B[43mstdin\u001B[49m\u001B[43m=\u001B[49m\u001B[43mstdin_parameter\u001B[49m\u001B[43m,\u001B[49m\u001B[43m \u001B[49m\u001B[43mstdout\u001B[49m\u001B[43m=\u001B[49m\u001B[43mPIPE\u001B[49m\u001B[43m,\u001B[49m\u001B[43m \u001B[49m\u001B[43mstderr\u001B[49m\u001B[43m=\u001B[49m\u001B[43mPIPE\u001B[49m\u001B[43m)\u001B[49m\n\u001B[32m    275\u001B[39m output, stderr = res.communicate(\u001B[38;5;28minput\u001B[39m=stdin_data)\n\u001B[32m    276\u001B[39m output = output.decode(\u001B[33m\"\u001B[39m\u001B[33mutf-8\u001B[39m\u001B[33m\"\u001B[39m, \u001B[33m'\u001B[39m\u001B[33mignore\u001B[39m\u001B[33m'\u001B[39m)\n",
      "\u001B[36mFile \u001B[39m\u001B[32m/usr/lib/python3.12/subprocess.py:1026\u001B[39m, in \u001B[36mPopen.__init__\u001B[39m\u001B[34m(self, args, bufsize, executable, stdin, stdout, stderr, preexec_fn, close_fds, shell, cwd, env, universal_newlines, startupinfo, creationflags, restore_signals, start_new_session, pass_fds, user, group, extra_groups, encoding, errors, text, umask, pipesize, process_group)\u001B[39m\n\u001B[32m   1022\u001B[39m         \u001B[38;5;28;01mif\u001B[39;00m \u001B[38;5;28mself\u001B[39m.text_mode:\n\u001B[32m   1023\u001B[39m             \u001B[38;5;28mself\u001B[39m.stderr = io.TextIOWrapper(\u001B[38;5;28mself\u001B[39m.stderr,\n\u001B[32m   1024\u001B[39m                     encoding=encoding, errors=errors)\n\u001B[32m-> \u001B[39m\u001B[32m1026\u001B[39m     \u001B[38;5;28;43mself\u001B[39;49m\u001B[43m.\u001B[49m\u001B[43m_execute_child\u001B[49m\u001B[43m(\u001B[49m\u001B[43margs\u001B[49m\u001B[43m,\u001B[49m\u001B[43m \u001B[49m\u001B[43mexecutable\u001B[49m\u001B[43m,\u001B[49m\u001B[43m \u001B[49m\u001B[43mpreexec_fn\u001B[49m\u001B[43m,\u001B[49m\u001B[43m \u001B[49m\u001B[43mclose_fds\u001B[49m\u001B[43m,\u001B[49m\n\u001B[32m   1027\u001B[39m \u001B[43m                        \u001B[49m\u001B[43mpass_fds\u001B[49m\u001B[43m,\u001B[49m\u001B[43m \u001B[49m\u001B[43mcwd\u001B[49m\u001B[43m,\u001B[49m\u001B[43m \u001B[49m\u001B[43menv\u001B[49m\u001B[43m,\u001B[49m\n\u001B[32m   1028\u001B[39m \u001B[43m                        \u001B[49m\u001B[43mstartupinfo\u001B[49m\u001B[43m,\u001B[49m\u001B[43m \u001B[49m\u001B[43mcreationflags\u001B[49m\u001B[43m,\u001B[49m\u001B[43m \u001B[49m\u001B[43mshell\u001B[49m\u001B[43m,\u001B[49m\n\u001B[32m   1029\u001B[39m \u001B[43m                        \u001B[49m\u001B[43mp2cread\u001B[49m\u001B[43m,\u001B[49m\u001B[43m \u001B[49m\u001B[43mp2cwrite\u001B[49m\u001B[43m,\u001B[49m\n\u001B[32m   1030\u001B[39m \u001B[43m                        \u001B[49m\u001B[43mc2pread\u001B[49m\u001B[43m,\u001B[49m\u001B[43m \u001B[49m\u001B[43mc2pwrite\u001B[49m\u001B[43m,\u001B[49m\n\u001B[32m   1031\u001B[39m \u001B[43m                        \u001B[49m\u001B[43merrread\u001B[49m\u001B[43m,\u001B[49m\u001B[43m \u001B[49m\u001B[43merrwrite\u001B[49m\u001B[43m,\u001B[49m\n\u001B[32m   1032\u001B[39m \u001B[43m                        \u001B[49m\u001B[43mrestore_signals\u001B[49m\u001B[43m,\u001B[49m\n\u001B[32m   1033\u001B[39m \u001B[43m                        \u001B[49m\u001B[43mgid\u001B[49m\u001B[43m,\u001B[49m\u001B[43m \u001B[49m\u001B[43mgids\u001B[49m\u001B[43m,\u001B[49m\u001B[43m \u001B[49m\u001B[43muid\u001B[49m\u001B[43m,\u001B[49m\u001B[43m \u001B[49m\u001B[43mumask\u001B[49m\u001B[43m,\u001B[49m\n\u001B[32m   1034\u001B[39m \u001B[43m                        \u001B[49m\u001B[43mstart_new_session\u001B[49m\u001B[43m,\u001B[49m\u001B[43m \u001B[49m\u001B[43mprocess_group\u001B[49m\u001B[43m)\u001B[49m\n\u001B[32m   1035\u001B[39m \u001B[38;5;28;01mexcept\u001B[39;00m:\n\u001B[32m   1036\u001B[39m     \u001B[38;5;66;03m# Cleanup if the child failed starting.\u001B[39;00m\n\u001B[32m   1037\u001B[39m     \u001B[38;5;28;01mfor\u001B[39;00m f \u001B[38;5;129;01min\u001B[39;00m \u001B[38;5;28mfilter\u001B[39m(\u001B[38;5;28;01mNone\u001B[39;00m, (\u001B[38;5;28mself\u001B[39m.stdin, \u001B[38;5;28mself\u001B[39m.stdout, \u001B[38;5;28mself\u001B[39m.stderr)):\n",
      "\u001B[36mFile \u001B[39m\u001B[32m/usr/lib/python3.12/subprocess.py:1955\u001B[39m, in \u001B[36mPopen._execute_child\u001B[39m\u001B[34m(self, args, executable, preexec_fn, close_fds, pass_fds, cwd, env, startupinfo, creationflags, shell, p2cread, p2cwrite, c2pread, c2pwrite, errread, errwrite, restore_signals, gid, gids, uid, umask, start_new_session, process_group)\u001B[39m\n\u001B[32m   1953\u001B[39m     err_msg = os.strerror(errno_num)\n\u001B[32m   1954\u001B[39m \u001B[38;5;28;01mif\u001B[39;00m err_filename \u001B[38;5;129;01mis\u001B[39;00m \u001B[38;5;129;01mnot\u001B[39;00m \u001B[38;5;28;01mNone\u001B[39;00m:\n\u001B[32m-> \u001B[39m\u001B[32m1955\u001B[39m     \u001B[38;5;28;01mraise\u001B[39;00m child_exception_type(errno_num, err_msg, err_filename)\n\u001B[32m   1956\u001B[39m \u001B[38;5;28;01melse\u001B[39;00m:\n\u001B[32m   1957\u001B[39m     \u001B[38;5;28;01mraise\u001B[39;00m child_exception_type(errno_num, err_msg)\n",
      "\u001B[31mFileNotFoundError\u001B[39m: [Errno 2] No such file or directory: 'ffprobe'"
     ]
    }
   ],
   "execution_count": 7
  }
 ],
 "metadata": {
  "kernelspec": {
   "display_name": "Python 3 (ipykernel)",
   "language": "python",
   "name": "python3"
  },
  "language_info": {
   "codemirror_mode": {
    "name": "ipython",
    "version": 3
   },
   "file_extension": ".py",
   "mimetype": "text/x-python",
   "name": "python",
   "nbconvert_exporter": "python",
   "pygments_lexer": "ipython3",
   "version": "3.12.3"
  }
 },
 "nbformat": 4,
 "nbformat_minor": 5
}
