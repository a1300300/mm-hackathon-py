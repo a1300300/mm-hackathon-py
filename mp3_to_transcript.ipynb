{
 "cells": [
  {
   "cell_type": "markdown",
   "id": "810365a55e299eaa",
   "metadata": {},
   "source": [
    "## Load API KEY"
   ]
  },
  {
   "cell_type": "code",
   "id": "87e40bf92d022071",
   "metadata": {},
   "source": [
    "from dotenv import load_dotenv, find_dotenv\n",
    "import os\n",
    "\n",
    "# Load variables from the nearest .env file (walking up directories if needed)\n",
    "load_dotenv(find_dotenv(), override=False)\n",
    "\n",
    "GEMINI_API_KEY = os.getenv(\"GEMINI_API_KEY\")\n",
    "if not GEMINI_API_KEY:\n",
    "    raise RuntimeError(\"GEMINI_API_KEY not found. Make sure it's set in your .env file.\")\n",
    "\n",
    "OPENAI_API_KEY = os.getenv(\"OPENAI_API_KEY\")\n",
    "if not OPENAI_API_KEY:\n",
    "    raise RuntimeError(\"OPENAI_API_KEY not found. Make sure it's set in your .env file.\")\n",
    "\n"
   ],
   "outputs": [],
   "execution_count": null
  },
  {
   "metadata": {
    "ExecuteTime": {
     "end_time": "2025-09-25T08:34:18.976536Z",
     "start_time": "2025-09-25T08:34:18.974676Z"
    }
   },
   "cell_type": "markdown",
   "source": "## load & split mp3 files",
   "id": "678edf1bd6e62b94"
  },
  {
   "metadata": {},
   "cell_type": "code",
   "source": [
    "# 讀取 MP3 檔案\n",
    "from pydub import AudioSegment\n",
    "\n",
    "\n",
    "def split_audio(source: AudioSegment, length: int):\n",
    "    \"\"\"\n",
    "    Split an AudioSegment into chunks.\n",
    "\n",
    "    Parameters:\n",
    "        source (AudioSegment): the loaded audio file.\n",
    "        length (int): chunk length in milliseconds (e.g., 60_000 for 1 minute).\n",
    "\n",
    "    Returns:\n",
    "        list[AudioSegment]: list of audio chunks.\n",
    "    \"\"\"\n",
    "    chunks = []\n",
    "    for idx in range(0, len(source), length):\n",
    "        chunks.append(source[idx:idx + length])\n",
    "    return chunks\n",
    "\n",
    "\n",
    "input_mp3 = './sound_files/' + 'my_CH_001.mp3'\n",
    "if not os.path.isfile(input_mp3):\n",
    "    raise RuntimeError(\"MP3檔案不存在\")\n",
    "\n",
    "# 分割mp3檔，設定每幾秒做分割\n",
    "chunk_length = 60 * 1000 * 10\n",
    "\n",
    "audio = AudioSegment.from_mp3(input_mp3)\n",
    "audio_slices = split_audio(source=audio, length=chunk_length)"
   ],
   "id": "7b28b9962f545871",
   "outputs": [],
   "execution_count": null
  },
  {
   "metadata": {
    "ExecuteTime": {
     "end_time": "2025-09-25T15:17:48.235095214Z",
     "start_time": "2025-09-25T15:17:48.227522046Z"
    }
   },
   "cell_type": "markdown",
   "source": "## process mp3 slices one by one",
   "id": "ac1222cf9145e97d"
  },
  {
   "metadata": {},
   "cell_type": "code",
   "source": "",
   "id": "e8f5cfea020ec1a9",
   "outputs": [],
   "execution_count": null
  }
 ],
 "metadata": {
  "kernelspec": {
   "display_name": "Python",
   "language": "python",
   "name": "python"
  },
  "language_info": {
   "codemirror_mode": {
    "name": "ipython",
    "version": 3
   },
   "file_extension": ".py",
   "mimetype": "text/x-python",
   "name": "python",
   "nbconvert_exporter": "python",
   "pygments_lexer": "ipython3",
   "version": "3.12.3"
  }
 },
 "nbformat": 4,
 "nbformat_minor": 5
}
