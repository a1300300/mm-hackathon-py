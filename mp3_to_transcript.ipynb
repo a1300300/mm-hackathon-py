{
 "cells": [
  {
   "cell_type": "markdown",
   "id": "810365a55e299eaa",
   "metadata": {},
   "source": [
    "## 前置定義"
   ]
  },
  {
   "cell_type": "code",
   "id": "87e40bf92d022071",
   "metadata": {
    "ExecuteTime": {
     "end_time": "2025-09-26T04:11:40.909651Z",
     "start_time": "2025-09-26T04:11:40.907038Z"
    }
   },
   "source": [
    "from dotenv import load_dotenv, find_dotenv\n",
    "from error_dict import error_words\n",
    "from pydub import AudioSegment\n",
    "import re, os, openai\n",
    "\n",
    "# Load variables from the nearest .env file (walking up directories if needed)\n",
    "load_dotenv(find_dotenv(), override=False)\n",
    "\n",
    "GEMINI_API_KEY = os.getenv(\"GEMINI_API_KEY\")\n",
    "if not GEMINI_API_KEY:\n",
    "    raise RuntimeError(\"GEMINI_API_KEY not found. Make sure it's set in your .env file.\")\n",
    "\n",
    "OPENAI_API_KEY = os.getenv(\"OPENAI_API_KEY\")\n",
    "if not OPENAI_API_KEY:\n",
    "    raise RuntimeError(\"OPENAI_API_KEY not found. Make sure it's set in your .env file.\")\n",
    "\n"
   ],
   "outputs": [],
   "execution_count": 7
  },
  {
   "cell_type": "markdown",
   "id": "3512c88a45a0cb86",
   "metadata": {},
   "source": [
    "## 函式定義"
   ]
  },
  {
   "cell_type": "code",
   "id": "40324c6a3b527398",
   "metadata": {
    "ExecuteTime": {
     "end_time": "2025-09-26T04:11:40.925296Z",
     "start_time": "2025-09-26T04:11:40.919053Z"
    }
   },
   "source": [
    "def split_audio(source: AudioSegment, length: int):\n",
    "    \"\"\"\n",
    "    Split an AudioSegment into chunks.\n",
    "\n",
    "    Parameters:\n",
    "        source (AudioSegment): the loaded audio file.\n",
    "        length (int): chunk length in milliseconds (e.g., 60_000 for 1 minute).\n",
    "\n",
    "    Returns:\n",
    "        list[AudioSegment]: list of audio chunks.\n",
    "    \"\"\"\n",
    "    start_times = []\n",
    "    chunks = []\n",
    "    for i in range(0, len(source), length):\n",
    "        chunks.append(source[i:i + length])\n",
    "        start_times.append(i / 1000)\n",
    "    return chunks, start_times\n",
    "\n",
    "\n",
    "def transcribe_audio(f_path):\n",
    "    \"\"\"Transcribe audio using OpenAI Whisper\"\"\"\n",
    "    client = openai.OpenAI()\n",
    "\n",
    "    with open(f_path, \"rb\") as audio_file:\n",
    "        transcript = client.audio.transcriptions.create(\n",
    "            model=\"whisper-1\",\n",
    "            file=audio_file,\n",
    "            language=\"zh\",\n",
    "            response_format=\"srt\"\n",
    "        )\n",
    "\n",
    "    return transcript\n",
    "\n",
    "\n",
    "def adjust_srt_timestamps(srt_content, offset_seconds):\n",
    "    \"\"\"Adjust SRT timestamps by adding offset\"\"\"\n",
    "    if offset_seconds == 0:\n",
    "        return srt_content\n",
    "\n",
    "    def adjust_timestamp(match):\n",
    "        timestamp = match.group(0)\n",
    "        # Parse timestamp: HH:MM:SS,mmm\n",
    "        time_parts = timestamp.replace(',', ':').split(':')\n",
    "        hours, minutes, seconds, milliseconds = map(int, time_parts)\n",
    "\n",
    "        total_seconds = hours * 3600 + minutes * 60 + seconds + milliseconds / 1000.0\n",
    "        total_seconds += offset_seconds\n",
    "\n",
    "        new_hours = int(total_seconds // 3600)\n",
    "        new_minutes = int((total_seconds % 3600) // 60)\n",
    "        new_seconds = int(total_seconds % 60)\n",
    "        new_milliseconds = int((total_seconds % 1) * 1000)\n",
    "\n",
    "        return f\"{new_hours:02d}:{new_minutes:02d}:{new_seconds:02d},{new_milliseconds:03d}\"\n",
    "\n",
    "    # Regex to match timestamp format: HH:MM:SS,mmm\n",
    "    timestamp_pattern = r'\\d{2}:\\d{2}:\\d{2},\\d{3}'\n",
    "    return re.sub(timestamp_pattern, adjust_timestamp, srt_content)\n",
    "\n",
    "\n",
    "def merge_srt_files(contents, start_times):\n",
    "    \"\"\"Merge multiple SRT contents with proper indexing and timestamps\"\"\"\n",
    "    merged_content = []\n",
    "    subtitle_index = 1\n",
    "\n",
    "    for srt_content, start_offset in zip(contents, start_times):\n",
    "        # Adjust timestamps for this chunk\n",
    "        adjusted_content = adjust_srt_timestamps(srt_content, start_offset)\n",
    "\n",
    "        # Split into blocks and reindex\n",
    "        blocks = adjusted_content.strip().split('\\n\\n')\n",
    "\n",
    "        for block in blocks:\n",
    "            if block.strip():\n",
    "                lines = block.strip().split('\\n')\n",
    "                if len(lines) >= 3:  # Valid SRT block\n",
    "                    # Replace the index with our sequential one\n",
    "                    lines[0] = str(subtitle_index)\n",
    "                    merged_content.append('\\n'.join(lines))\n",
    "                    subtitle_index += 1\n",
    "\n",
    "    return '\\n\\n'.join(merged_content)\n",
    "\n",
    "\n",
    "def apply_error_dictionary(text: str) -> str:\n",
    "    if not error_words:\n",
    "        return text\n",
    "    for wrong, right in error_words.items():\n",
    "        # 全文直接替換，避免破壞時間戳，僅處理字幕文字行\n",
    "        text = text.replace(wrong, right)\n",
    "    return text\n",
    "\n",
    "\n",
    "def refine_srt_with_gemini(srt_text: str) -> str:\n",
    "    from google import genai\n",
    "\n",
    "    client = genai.Client(api_key=GEMINI_API_KEY)\n",
    "    prompt = (\n",
    "        \"音訊內容主要為台灣口音的中文。\\n\"\n",
    "        \"請直接輸出 SRT 內容，不要包含任何額外的說明文字或代碼塊標記。\\n\"\n",
    "        \"我們公司名稱是財經M平方，請判斷是否產生對的公司名稱。\\n\"\n",
    "        \"然後音檔是關於總體經濟的話題，因此會提到很多經濟、財經等名詞。\\n\"\n",
    "        \"並且也包含各國央行鷹鴿派走向、商品以及指數的走勢、行情等等的分析。\\n\"\n",
    "        \"除此之外希望可以移除贅字如還有、然後、嗯嗯等等的。\\n\"\n",
    "        \"另外重要的是，盡量不要摻雜簡體中文的用詞。\\n\"\n",
    "        \"以下是原始 SRT，請在保留原時間戳的前提下，針對文字做整理與修正：\\n\\n\"\n",
    "        f\"{srt_text}\"\n",
    "    )\n",
    "\n",
    "    response = client.models.generate_content(\n",
    "        model=\"gemini-2.5-flash\",\n",
    "        contents=[\n",
    "            genai.types.Part.from_bytes(\n",
    "                data=bytes(srt_text, 'utf-8'),\n",
    "                mime_type='text/plain',\n",
    "            ),\n",
    "            prompt])\n",
    "\n",
    "    return response.text"
   ],
   "outputs": [],
   "execution_count": 8
  },
  {
   "cell_type": "markdown",
   "id": "6d67a2af7308bc17",
   "metadata": {
    "ExecuteTime": {
     "end_time": "2025-09-25T08:34:18.976536Z",
     "start_time": "2025-09-25T08:34:18.974676Z"
    }
   },
   "source": [
    "## 讀取並分割mp3檔案"
   ]
  },
  {
   "cell_type": "code",
   "id": "f7c079e55fcf55a0",
   "metadata": {
    "ExecuteTime": {
     "end_time": "2025-09-26T04:11:41.557493Z",
     "start_time": "2025-09-26T04:11:40.970164Z"
    }
   },
   "source": [
    "### 更改為要轉檔的mp3檔案名稱\n",
    "input_mp3 = 'Podcast_0925_5min.mp3'\n",
    "###\n",
    "input_path = './input_files/' + input_mp3\n",
    "\n",
    "if not os.path.isfile(input_path):\n",
    "    raise RuntimeError(\"MP3檔案不存在\")\n",
    "\n",
    "# 分割mp3檔，設定每分鐘做分割\n",
    "mins = 20\n",
    "chunk_length = 60 * 1000 * mins # 分鐘\n",
    "\n",
    "audio = AudioSegment.from_mp3(input_path)\n",
    "audio_slices, start_secs = split_audio(source=audio, length=chunk_length)"
   ],
   "outputs": [],
   "execution_count": 9
  },
  {
   "cell_type": "markdown",
   "id": "80998823e5040b1b",
   "metadata": {
    "ExecuteTime": {
     "end_time": "2025-09-25T15:17:48.235095214Z",
     "start_time": "2025-09-25T15:17:48.227522046Z"
    }
   },
   "source": [
    "## 產生字幕再結合"
   ]
  },
  {
   "cell_type": "code",
   "id": "e8f5cfea020ec1a9",
   "metadata": {
    "ExecuteTime": {
     "end_time": "2025-09-26T04:12:12.105864Z",
     "start_time": "2025-09-26T04:11:41.566623Z"
    }
   },
   "source": [
    "srt_contents = []\n",
    "for idx, audio_slice in enumerate(audio_slices):\n",
    "    print(f\"Processing chunk {idx + 1}/{len(audio_slices)}\")\n",
    "\n",
    "    file_path = f\"./tmp/chunk_{idx + 1}.mp3\"\n",
    "    audio_slice.export(file_path, format=\"mp3\")\n",
    "\n",
    "    srt_contents.append(transcribe_audio(file_path))\n",
    "\n",
    "# Merge SRT contents\n",
    "print('結合字幕檔')\n",
    "srt_filename = './output_files/' + os.path.splitext(input_mp3)[0] + \".srt\"\n",
    "if len(srt_contents) == 1:\n",
    "    # Single file, no need to merge\n",
    "    final_srt = srt_contents[0]\n",
    "else:\n",
    "    # Multiple chunks, merge with timestamp adjustment\n",
    "    final_srt = merge_srt_files(srt_contents, start_secs)\n"
   ],
   "outputs": [
    {
     "name": "stdout",
     "output_type": "stream",
     "text": [
      "Processing chunk 1/1\n",
      "結合字幕檔\n"
     ]
    }
   ],
   "execution_count": 10
  },
  {
   "cell_type": "markdown",
   "id": "30c06df6ee64f9ee",
   "metadata": {},
   "source": [
    "## 後續錯字處理以及潤稿"
   ]
  },
  {
   "cell_type": "code",
   "id": "940aeef8594d41be",
   "metadata": {
    "ExecuteTime": {
     "end_time": "2025-09-26T04:13:35.809098Z",
     "start_time": "2025-09-26T04:12:12.200961Z"
    }
   },
   "source": [
    "# 先做本地名詞/錯字替換\n",
    "print('先做本地名詞/錯字替換')\n",
    "final_srt = apply_error_dictionary(final_srt)\n",
    "try:\n",
    "    print('再交給 Gemini 清理贅字與公司名校正')\n",
    "    final_srt = refine_srt_with_gemini(final_srt)\n",
    "except Exception as e:\n",
    "    # 若 Gemini 呼叫失敗，保留本地修正版，並輸出警告\n",
    "    print(f\"[Warn] Gemini refine failed: {e}\")"
   ],
   "outputs": [
    {
     "name": "stdout",
     "output_type": "stream",
     "text": [
      "先做本地名詞/錯字替換\n",
      "再交給 Gemini 清理贅字與公司名校正\n"
     ]
    }
   ],
   "execution_count": 11
  },
  {
   "cell_type": "markdown",
   "id": "5fe5b49693717692",
   "metadata": {},
   "source": [
    "## 準備輸出"
   ]
  },
  {
   "cell_type": "code",
   "id": "942982916ef733b3",
   "metadata": {
    "ExecuteTime": {
     "end_time": "2025-09-26T04:13:35.889282Z",
     "start_time": "2025-09-26T04:13:35.886984Z"
    }
   },
   "source": [
    "# Write a final SRT file\n",
    "with open(srt_filename, '+w', encoding='utf-8') as f:\n",
    "    f.write(final_srt)\n",
    "    print('完成輸出, 路徑:'+srt_filename)\n"
   ],
   "outputs": [
    {
     "name": "stdout",
     "output_type": "stream",
     "text": [
      "完成輸出, 路徑:./output_files/Podcast_0925_5min.srt\n"
     ]
    }
   ],
   "execution_count": 12
  }
 ],
 "metadata": {
  "kernelspec": {
   "display_name": "Python 3 (ipykernel)",
   "language": "python",
   "name": "python3"
  },
  "language_info": {
   "codemirror_mode": {
    "name": "ipython",
    "version": 3
   },
   "file_extension": ".py",
   "mimetype": "text/x-python",
   "name": "python",
   "nbconvert_exporter": "python",
   "pygments_lexer": "ipython3",
   "version": "3.12.3"
  }
 },
 "nbformat": 4,
 "nbformat_minor": 5
}
