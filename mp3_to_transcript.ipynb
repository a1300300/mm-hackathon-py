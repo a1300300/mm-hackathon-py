{
 "cells": [
  {
   "cell_type": "markdown",
   "id": "810365a55e299eaa",
   "metadata": {},
   "source": [
    "## Load API KEY"
   ]
  },
  {
   "cell_type": "code",
   "execution_count": 4,
   "id": "87e40bf92d022071",
   "metadata": {
    "ExecuteTime": {
     "end_time": "2025-09-25T08:34:18.928214Z",
     "start_time": "2025-09-25T08:34:18.925669Z"
    }
   },
   "outputs": [],
   "source": [
    "from dotenv import load_dotenv, find_dotenv\n",
    "import os\n",
    "\n",
    "# Load variables from the nearest .env file (walking up directories if needed)\n",
    "load_dotenv(find_dotenv(), override=False)\n",
    "\n",
    "GEMINI_API_KEY = os.getenv(\"GEMINI_API_KEY\")\n",
    "if not GEMINI_API_KEY:\n",
    "    raise RuntimeError(\"GEMINI_API_KEY not found. Make sure it's set in your .env file.\")\n",
    "\n"
   ]
  },
  {
   "metadata": {
    "ExecuteTime": {
     "end_time": "2025-09-25T08:34:18.976536Z",
     "start_time": "2025-09-25T08:34:18.974676Z"
    }
   },
   "cell_type": "markdown",
   "source": "## load & split mp3 files",
   "id": "678edf1bd6e62b94"
  },
  {
   "metadata": {},
   "cell_type": "code",
   "outputs": [],
   "execution_count": null,
   "source": "",
   "id": "cab68483d632ebd6"
  }
 ],
 "metadata": {
  "kernelspec": {
   "display_name": "Python 3 (ipykernel)",
   "language": "python",
   "name": "python3"
  },
  "language_info": {
   "codemirror_mode": {
    "name": "ipython",
    "version": 3
   },
   "file_extension": ".py",
   "mimetype": "text/x-python",
   "name": "python",
   "nbconvert_exporter": "python",
   "pygments_lexer": "ipython3",
   "version": "3.12.3"
  }
 },
 "nbformat": 4,
 "nbformat_minor": 5
}
